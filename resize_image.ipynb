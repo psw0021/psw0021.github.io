{
 "cells": [
  {
   "cell_type": "code",
   "execution_count": 3,
   "metadata": {},
   "outputs": [],
   "source": [
    "from PIL import Image\n",
    "\n",
    "# Open an image file\n",
    "img = Image.open(\"assets/img/Sangwoo_profile.webp\")\n",
    "\n",
    "# Resize the image\n",
    "new_width = 280\n",
    "new_height = 350\n",
    "resized_img = img.resize((new_width, new_height))\n",
    "\n",
    "# Save as WebP\n",
    "resized_img.save(\"resized_image.webp\", format=\"WEBP\", quality=80)"
   ]
  }
 ],
 "metadata": {
  "kernelspec": {
   "display_name": "Python 3",
   "language": "python",
   "name": "python3"
  },
  "language_info": {
   "codemirror_mode": {
    "name": "ipython",
    "version": 3
   },
   "file_extension": ".py",
   "mimetype": "text/x-python",
   "name": "python",
   "nbconvert_exporter": "python",
   "pygments_lexer": "ipython3",
   "version": "3.9.10"
  }
 },
 "nbformat": 4,
 "nbformat_minor": 2
}
